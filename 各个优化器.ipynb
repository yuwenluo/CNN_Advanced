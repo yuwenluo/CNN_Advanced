{
 "cells": [
  {
   "cell_type": "markdown",
   "metadata": {},
   "source": [
    "### 优化器Optimizer（18/06/21）"
   ]
  },
  {
   "cell_type": "code",
   "execution_count": 1,
   "metadata": {},
   "outputs": [],
   "source": [
    "import tensorflow as tf\n",
    "import numpy as np\n",
    "import matplotlib.pyplot as plt"
   ]
  },
  {
   "cell_type": "code",
   "execution_count": 24,
   "metadata": {},
   "outputs": [
    {
     "name": "stdout",
     "output_type": "stream",
     "text": [
      "Epoch: 1,w :0.1493956297636032,b:2.093094825744629\n",
      "Epoch: 2,w :0.40325701236724854,b:3.819654941558838\n",
      "Epoch: 3,w :0.6236409544944763,b:5.306581974029541\n",
      "Epoch: 4,w :0.8249329328536987,b:6.560873031616211\n",
      "Epoch: 5,w :1.0111674070358276,b:7.585493564605713\n",
      "Epoch: 6,w :1.1832257509231567,b:8.388632774353027\n",
      "Epoch: 7,w :1.3405343294143677,b:8.98717212677002\n",
      "Epoch: 8,w :1.4817099571228027,b:9.407256126403809\n",
      "Epoch: 9,w :1.6050188541412354,b:9.682185173034668\n",
      "Epoch: 10,w :1.7089109420776367,b:9.848123550415039\n",
      "Epoch: 11,w :1.7926123142242432,b:9.939172744750977\n",
      "Epoch: 12,w :1.8565751314163208,b:9.983596801757812\n",
      "Epoch: 13,w :1.9026086330413818,b:10.002053260803223\n",
      "Epoch: 14,w :1.933628797531128,b:10.007887840270996\n",
      "Epoch: 15,w :1.9531364440917969,b:10.008606910705566\n",
      "Epoch: 16,w :1.9646002054214478,b:10.007842063903809\n",
      "Epoch: 17,w :1.9709807634353638,b:10.007020950317383\n",
      "Epoch: 18,w :1.9744921922683716,b:10.006495475769043\n",
      "Epoch: 19,w :1.9765851497650146,b:10.006243705749512\n",
      "Epoch: 20,w :1.978098750114441,b:10.006155014038086\n",
      "Epoch: 21,w :1.979456901550293,b:10.006148338317871\n",
      "Epoch: 22,w :1.980843186378479,b:10.006170272827148\n",
      "Epoch: 23,w :1.9823273420333862,b:10.006192207336426\n",
      "Epoch: 24,w :1.9839214086532593,b:10.006208419799805\n",
      "Epoch: 25,w :1.9856144189834595,b:10.00621223449707\n",
      "Epoch: 26,w :1.9873806238174438,b:10.006207466125488\n",
      "Epoch: 27,w :1.989194631576538,b:10.006184577941895\n",
      "Epoch: 28,w :1.9910156726837158,b:10.006149291992188\n",
      "Epoch: 29,w :1.992813229560852,b:10.006096839904785\n",
      "Epoch: 30,w :1.994543194770813,b:10.006038665771484\n",
      "Epoch: 31,w :1.996181845664978,b:10.005966186523438\n",
      "Epoch: 32,w :1.9977011680603027,b:10.005887031555176\n",
      "Epoch: 33,w :1.9990817308425903,b:10.005806922912598\n",
      "Epoch: 34,w :2.000321388244629,b:10.005722045898438\n",
      "Epoch: 35,w :2.0014166831970215,b:10.005640029907227\n",
      "Epoch: 36,w :2.0023701190948486,b:10.005559921264648\n",
      "Epoch: 37,w :2.00319242477417,b:10.005487442016602\n",
      "Epoch: 38,w :2.003894329071045,b:10.005424499511719\n",
      "Epoch: 39,w :2.0044941902160645,b:10.00536060333252\n",
      "Epoch: 40,w :2.0049967765808105,b:10.005309104919434\n",
      "Epoch: 41,w :2.005415916442871,b:10.005265235900879\n",
      "Epoch: 42,w :2.0057694911956787,b:10.005224227905273\n",
      "Epoch: 43,w :2.00605845451355,b:10.005192756652832\n",
      "Epoch: 44,w :2.0062992572784424,b:10.005165100097656\n",
      "Epoch: 45,w :2.006499767303467,b:10.00514030456543\n",
      "Epoch: 46,w :2.0066659450531006,b:10.005119323730469\n",
      "Epoch: 47,w :2.006805896759033,b:10.005098342895508\n",
      "Epoch: 48,w :2.0069124698638916,b:10.005087852478027\n",
      "Epoch: 49,w :2.0070056915283203,b:10.00507640838623\n",
      "Epoch: 50,w :2.0070784091949463,b:10.0050687789917\n"
     ]
    },
    {
     "data": {
      "text/plain": [
       "<function matplotlib.pyplot.show(*args, **kw)>"
      ]
     },
     "execution_count": 24,
     "metadata": {},
     "output_type": "execute_result"
    },
    {
     "data": {
      "image/png": "[encoded data removed]",
      "text/plain": [
       "<Figure size 432x288 with 1 Axes>"
      ]
     },
     "metadata": {},
     "output_type": "display_data"
    }
   ],
   "source": [
    "train_X = np.linspace(-1,1,200)\n",
    "train_Y = 2 * train_X + np.random.randn(*train_X.shape) * 0.33 + 10\n",
    "\n",
    "X = tf.placeholder(\"float32\")\n",
    "Y = tf.placeholder(\"float32\")\n",
    "w = tf.Variable(0.0, name =\"weight\")\n",
    "b = tf.Variable(0.0, name = \"bias\")\n",
    "\n",
    "loss = tf.square(Y - X *w -b)\n",
    "#train = tf.train.GradientDescentOptimizer(0.01).minimize(loss)\n",
    "#train = tf.train.AdadeltaOptimizer(0.9).minimize(loss)\n",
    "#train = tf.train.AdagradOptimizer(0.5).minimize(loss)\n",
    "train = tf.train.AdamOptimizer(0.01).minimize(loss)\\\n",
    "\n",
    "\n",
    "with tf.Session() as sess:\n",
    "    tf.global_variables_initializer().run()\n",
    "    epoch = 1\n",
    "    for i in range(50):\n",
    "        for (x,y) in zip(train_X, train_Y):\n",
    "            _,w_value,b_value = sess.run([train,w,b], feed_dict= {X: x ,Y :y})\n",
    "        print(\"Epoch: {},w :{},b:{}\".format(epoch,w_value,b_value))\n",
    "        epoch +=1\n",
    "    \n",
    "plt.plot(train_X,train_Y,'.')\n",
    "plt.plot(train_X,train_X.dot(w_value)+ b_value)\n",
    "plt.show"
   ]
  },
  {
   "cell_type": "code",
   "execution_count": 6,
   "metadata": {},
   "outputs": [
    {
     "data": {
      "text/plain": [
       "<zip at 0xb659c88>"
      ]
     },
     "execution_count": 6,
     "metadata": {},
     "output_type": "execute_result"
    }
   ],
   "source": []
  },
  {
   "cell_type": "code",
   "execution_count": null,
   "metadata": {},
   "outputs": [],
   "source": []
  }
 ],
 "metadata": {
  "kernelspec": {
   "display_name": "Python 3",
   "language": "python",
   "name": "python3"
  },
  "language_info": {
   "codemirror_mode": {
    "name": "ipython",
    "version": 3
   },
   "file_extension": ".py",
   "mimetype": "text/x-python",
   "name": "python",
   "nbconvert_exporter": "python",
   "pygments_lexer": "ipython3",
   "version": "3.6.5"
  }
 },
 "nbformat": 4,
 "nbformat_minor": 2
}
