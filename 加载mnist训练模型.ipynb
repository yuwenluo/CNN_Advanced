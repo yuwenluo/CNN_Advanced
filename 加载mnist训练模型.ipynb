{
 "cells": [
  {
   "cell_type": "markdown",
   "metadata": {},
   "source": [
    "### 加载用mnist数据集训练好的模型，并测试单张图片(18/06/25)"
   ]
  },
  {
   "cell_type": "code",
   "execution_count": 1,
   "metadata": {},
   "outputs": [],
   "source": [
    "import cv2  \n",
    "import tensorflow as tf  \n",
    "import numpy as np  \n",
    "from sys import path  \n",
    "path.append('../..')  \n",
    "import matplotlib.pyplot as plt \n",
    " "
   ]
  },
  {
   "cell_type": "code",
   "execution_count": 2,
   "metadata": {},
   "outputs": [
    {
     "name": "stdout",
     "output_type": "stream",
     "text": [
      "INFO:tensorflow:Restoring parameters from E:/model.ckpt\n",
      "the y_con :    \n",
      " [[  3.13907047e-03   3.03866196e-04   1.11561585e-02   2.19573490e-02\n",
      "    8.00761767e-03   2.41271392e-01   9.91480556e-05   6.58884994e-04\n",
      "    6.98541820e-01   1.48646627e-02]]\n",
      "the predict is :  8\n"
     ]
    },
    {
     "data": {
      "image/png": "[encoded data removed]",
      "text/plain": [
       "<Figure size 432x288 with 1 Axes>"
      ]
     },
     "metadata": {},
     "output_type": "display_data"
    }
   ],
   "source": [
    "#初始化单个卷积核上的参数  \n",
    "def weight_variable(shape):  \n",
    "    initial = tf.truncated_normal(shape, stddev=0.1)  \n",
    "    return tf.Variable(initial)  \n",
    "  \n",
    "#初始化单个卷积核上的偏置值  \n",
    "def bias_variable(shape):  \n",
    "    initial = tf.constant(0.1, shape=shape)  \n",
    "    return tf.Variable(initial)  \n",
    "  \n",
    "#输入特征x，用卷积核W进行卷积运算，strides为卷积核移动步长，  \n",
    "#padding表示是否需要补齐边缘像素使输出图像大小不变  \n",
    "def conv2d(x, W):  \n",
    "    return tf.nn.conv2d(x, W, strides=[1, 1, 1, 1], padding='SAME')  \n",
    "  \n",
    "#对x进行最大池化操作，ksize进行池化的范围，  \n",
    "def max_pool_2x2(x):  \n",
    "    return tf.nn.max_pool(x, ksize=[1, 2, 2, 1],strides=[1, 2, 2, 1], padding='SAME')  \n",
    "    \n",
    "def main():  \n",
    "      \n",
    "    #定义会话  \n",
    "    sess = tf.InteractiveSession()  \n",
    "      \n",
    "    #声明输入图片数据，类别  \n",
    "    x = tf.placeholder('float',[None,784])  \n",
    "    x_img = tf.reshape(x , [-1,28,28,1])  \n",
    "    \n",
    "    W_conv1 = weight_variable([5, 5, 1, 32])  \n",
    "    b_conv1 = bias_variable([32])  \n",
    "    W_conv2 = weight_variable([5,5,32,64])  \n",
    "    b_conv2 = bias_variable([64])  \n",
    "    W_fc1 = weight_variable([7*7*64,1024])  \n",
    "    b_fc1 = bias_variable([1024])  \n",
    "    W_fc2 = weight_variable([1024,10])  \n",
    "    b_fc2 = bias_variable([10])  \n",
    "    \n",
    "    \n",
    "    saver = tf.train.Saver(write_version=tf.train.SaverDef.V1)   \n",
    "    saver.restore(sess , 'E:/model.ckpt')  \n",
    "    \n",
    "    \n",
    "    #进行卷积操作，并添加relu激活函数  \n",
    "    h_conv1 = tf.nn.relu(conv2d(x_img,W_conv1) + b_conv1)  \n",
    "    #进行最大池化  \n",
    "    h_pool1 = max_pool_2x2(h_conv1)  \n",
    "    \n",
    "    #同理第二层卷积层  \n",
    "    h_conv2 = tf.nn.relu(conv2d(h_pool1,W_conv2) + b_conv2)  \n",
    "    h_pool2 = max_pool_2x2(h_conv2)  \n",
    "      \n",
    "    #将卷积的产出展开  \n",
    "    h_pool2_flat = tf.reshape(h_pool2,[-1,7*7*64])  \n",
    "    #神经网络计算，并添加relu激活函数  \n",
    "    h_fc1 = tf.nn.relu(tf.matmul(h_pool2_flat,W_fc1) + b_fc1)  \n",
    "    \n",
    "    #输出层，使用softmax进行多分类  \n",
    "    y_conv=tf.nn.softmax(tf.matmul(h_fc1, W_fc2) + b_fc2)  \n",
    "    \n",
    "    # mnist_data_set = extract_mnist.MnistDataSet('../../data/')  \n",
    "    # x_img , y  = mnist_data_set.next_train_batch(1)  \n",
    "    im = cv2.imread('D:/12.jpg',cv2.IMREAD_GRAYSCALE).astype(np.float32)  \n",
    "    im = cv2.resize(im,(28,28),interpolation=cv2.INTER_CUBIC)  \n",
    "    #图片预处理  \n",
    "    #img_gray = cv2.cvtColor(im , cv2.COLOR_BGR2GRAY).astype(np.float32)  \n",
    "    #数据从0~255转为-0.5~0.5  \n",
    "    img_gray = (im - (255 / 2.0)) / 255  \n",
    "    #cv2.imshow('out',img_gray)  \n",
    "    #cv2.waitKey(0)  \n",
    "    x_img = np.reshape(img_gray , [-1 , 784])  \n",
    "    \n",
    "    \n",
    "    plt.imshow(img_gray) \n",
    "    output = sess.run(y_conv , feed_dict = {x:x_img})  \n",
    "    print('the y_con :   ', '\\n',output  )\n",
    "    print( 'the predict is : ', np.argmax(output)  )\n",
    "#关闭会话  \n",
    "    sess.close()  \n",
    "    \n",
    "    \n",
    "if __name__ == '__main__':  \n",
    "    main()  "
   ]
  },
  {
   "cell_type": "code",
   "execution_count": null,
   "metadata": {},
   "outputs": [],
   "source": []
  }
 ],
 "metadata": {
  "kernelspec": {
   "display_name": "Python 3",
   "language": "python",
   "name": "python3"
  },
  "language_info": {
   "codemirror_mode": {
    "name": "ipython",
    "version": 3
   },
   "file_extension": ".py",
   "mimetype": "text/x-python",
   "name": "python",
   "nbconvert_exporter": "python",
   "pygments_lexer": "ipython3",
   "version": "3.6.5"
  }
 },
 "nbformat": 4,
 "nbformat_minor": 2
}
