{
 "cells": [
  {
   "cell_type": "markdown",
   "metadata": {},
   "source": [
    "### 查看ckpt中到底有哪些变量(18/06/22)"
   ]
  },
  {
   "cell_type": "code",
   "execution_count": 1,
   "metadata": {},
   "outputs": [],
   "source": [
    "import os \n",
    "from tensorflow.python import pywrap_tensorflow\n",
    "import tensorflow as tf\n",
    "model_dir = \"E:/\"\n",
    "check_path = os.path.join(model_dir,\"model.ckpt\")\n",
    "# Read data from checkpoint file\n",
    "reader = pywrap_tensorflow.NewCheckpointReader(check_path)\n",
    "var = reader.get_variable_to_shape_map()\n"
   ]
  },
  {
   "cell_type": "code",
   "execution_count": 2,
   "metadata": {},
   "outputs": [
    {
     "name": "stdout",
     "output_type": "stream",
     "text": [
      "tensor_name:  Variable_5/Adam_1\n",
      "tensor_name:  Variable_1\n",
      "tensor_name:  Variable_5/Adam\n",
      "tensor_name:  Variable\n",
      "tensor_name:  Variable_1/Adam_1\n",
      "tensor_name:  Variable_5\n",
      "tensor_name:  Variable_1/Adam\n",
      "tensor_name:  beta2_power\n",
      "tensor_name:  Variable/Adam\n",
      "tensor_name:  Variable/Adam_1\n",
      "tensor_name:  Variable_2\n",
      "tensor_name:  Variable_2/Adam_1\n",
      "tensor_name:  Variable_2/Adam\n",
      "tensor_name:  Variable_3\n",
      "tensor_name:  Variable_3/Adam\n",
      "tensor_name:  Variable_3/Adam_1\n",
      "tensor_name:  Variable_4\n",
      "tensor_name:  Variable_8/Adam_1\n",
      "tensor_name:  Variable_6\n",
      "tensor_name:  Variable_4/Adam\n",
      "tensor_name:  Variable_8/Adam\n",
      "tensor_name:  Variable_4/Adam_1\n",
      "tensor_name:  Variable_8\n",
      "tensor_name:  Variable_6/Adam_1\n",
      "tensor_name:  Variable_6/Adam\n",
      "tensor_name:  Variable_7\n",
      "tensor_name:  Variable_7/Adam\n",
      "tensor_name:  Variable_7/Adam_1\n",
      "tensor_name:  Variable_9\n",
      "tensor_name:  Variable_9/Adam_1\n",
      "tensor_name:  Variable_9/Adam\n",
      "tensor_name:  beta1_power\n"
     ]
    }
   ],
   "source": [
    "# print tensor name and values\n",
    "for key in var:\n",
    "    print(\"tensor_name: \",key)\n",
    "    #print(reader.get_tensor(key))"
   ]
  },
  {
   "cell_type": "code",
   "execution_count": 3,
   "metadata": {},
   "outputs": [
    {
     "data": {
      "text/plain": [
       "{'Variable_5/Adam_1': [256],\n",
       " 'Variable_1': [64],\n",
       " 'Variable_5/Adam': [256],\n",
       " 'Variable': [5, 5, 3, 64],\n",
       " 'Variable_1/Adam_1': [64],\n",
       " 'Variable_5': [256],\n",
       " 'Variable_1/Adam': [64],\n",
       " 'beta2_power': [],\n",
       " 'Variable/Adam': [5, 5, 3, 64],\n",
       " 'Variable/Adam_1': [5, 5, 3, 64],\n",
       " 'Variable_2': [5, 5, 64, 128],\n",
       " 'Variable_2/Adam_1': [5, 5, 64, 128],\n",
       " 'Variable_2/Adam': [5, 5, 64, 128],\n",
       " 'Variable_3': [128],\n",
       " 'Variable_3/Adam': [128],\n",
       " 'Variable_3/Adam_1': [128],\n",
       " 'Variable_4': [5, 5, 128, 256],\n",
       " 'Variable_8/Adam_1': [250, 10],\n",
       " 'Variable_6': [16384, 250],\n",
       " 'Variable_4/Adam': [5, 5, 128, 256],\n",
       " 'Variable_8/Adam': [250, 10],\n",
       " 'Variable_4/Adam_1': [5, 5, 128, 256],\n",
       " 'Variable_8': [250, 10],\n",
       " 'Variable_6/Adam_1': [16384, 250],\n",
       " 'Variable_6/Adam': [16384, 250],\n",
       " 'Variable_7': [250],\n",
       " 'Variable_7/Adam': [250],\n",
       " 'Variable_7/Adam_1': [250],\n",
       " 'Variable_9': [10],\n",
       " 'Variable_9/Adam_1': [10],\n",
       " 'Variable_9/Adam': [10],\n",
       " 'beta1_power': []}"
      ]
     },
     "execution_count": 3,
     "metadata": {},
     "output_type": "execute_result"
    }
   ],
   "source": [
    "var"
   ]
  },
  {
   "cell_type": "code",
   "execution_count": null,
   "metadata": {},
   "outputs": [],
   "source": [
    "ckpt = tf.train.get_checkpoint_state('D:/')\n",
    "print(ckpt.model_checkpoint_path)"
   ]
  },
  {
   "cell_type": "code",
   "execution_count": null,
   "metadata": {},
   "outputs": [],
   "source": []
  }
 ],
 "metadata": {
  "kernelspec": {
   "display_name": "Python 3",
   "language": "python",
   "name": "python3"
  },
  "language_info": {
   "codemirror_mode": {
    "name": "ipython",
    "version": 3
   },
   "file_extension": ".py",
   "mimetype": "text/x-python",
   "name": "python",
   "nbconvert_exporter": "python",
   "pygments_lexer": "ipython3",
   "version": "3.6.5"
  }
 },
 "nbformat": 4,
 "nbformat_minor": 2
}
